{
 "cells": [
  {
   "cell_type": "code",
   "execution_count": 1,
   "metadata": {
    "id": "ur8xi4C7S06n",
    "tags": []
   },
   "outputs": [],
   "source": [
    "# Copyright 2024 Google LLC\n",
    "#\n",
    "# Licensed under the Apache License, Version 2.0 (the \"License\");\n",
    "# you may not use this file except in compliance with the License.\n",
    "# You may obtain a copy of the License at\n",
    "#\n",
    "#     https://www.apache.org/licenses/LICENSE-2.0\n",
    "#\n",
    "# Unless required by applicable law or agreed to in writing, software\n",
    "# distributed under the License is distributed on an \"AS IS\" BASIS,\n",
    "# WITHOUT WARRANTIES OR CONDITIONS OF ANY KIND, either express or implied.\n",
    "# See the License for the specific language governing permissions and\n",
    "# limitations under the License."
   ]
  },
  {
   "cell_type": "markdown",
   "metadata": {
    "id": "JAPoU8Sm5E6e"
   },
   "source": [
    "# Prompt Design - Best Practices\n",
    "\n",
    "<table align=\"left\">\n",
    "  <td style=\"text-align: center\">\n",
    "    <a href=\"https://colab.research.google.com/github/GoogleCloudPlatform/generative-ai/blob/main/gemini/prompts/intro_prompt_design.ipynb\">\n",
    "      <img src=\"https://cloud.google.com/ml-engine/images/colab-logo-32px.png\" alt=\"Google Colaboratory logo\"><br> Open in Colab\n",
    "    </a>\n",
    "  </td>\n",
    "  <td style=\"text-align: center\">\n",
    "    <a href=\"https://console.cloud.google.com/vertex-ai/colab/import/https:%2F%2Fraw.githubusercontent.com%2FGoogleCloudPlatform%2Fgenerative-ai%2Fmain%2Fgemini%2Fprompts%2Fintro_prompt_design.ipynb\">\n",
    "      <img width=\"32px\" src=\"https://lh3.googleusercontent.com/JmcxdQi-qOpctIvWKgPtrzZdJJK-J3sWE1RsfjZNwshCFgE_9fULcNpuXYTilIR2hjwN\" alt=\"Google Cloud Colab Enterprise logo\"><br> Open in Colab Enterprise\n",
    "    </a>\n",
    "  </td>    \n",
    "  <td style=\"text-align: center\">\n",
    "    <a href=\"https://console.cloud.google.com/vertex-ai/workbench/deploy-notebook?download_url=https://raw.githubusercontent.com/GoogleCloudPlatform/generative-ai/main/gemini/prompts/intro_prompt_design.ipynb\">\n",
    "      <img src=\"https://lh3.googleusercontent.com/UiNooY4LUgW_oTvpsNhPpQzsstV5W8F7rYgxgGBD85cWJoLmrOzhVs_ksK_vgx40SHs7jCqkTkCk=e14-rj-sc0xffffff-h130-w32\" alt=\"Vertex AI logo\"><br> Open in Workbench\n",
    "    </a>\n",
    "  </td>\n",
    "  <td style=\"text-align: center\">\n",
    "    <a href=\"https://github.com/GoogleCloudPlatform/generative-ai/blob/main/gemini/prompts/intro_prompt_design.ipynb\">\n",
    "      <img src=\"https://cloud.google.com/ml-engine/images/github-logo-32px.png\" alt=\"GitHub logo\"><br> View on GitHub\n",
    "    </a>\n",
    "  </td>\n",
    "</table>"
   ]
  },
  {
   "cell_type": "markdown",
   "metadata": {
    "id": "84f0f73a0f76"
   },
   "source": [
    "| | | |\n",
    "|-|-|-|\n",
    "|Author(s) | [Polong Lin](https://github.com/polong-lin) | [Karl Weinmeister](https://github.com/kweinmeister)|"
   ]
  },
  {
   "cell_type": "markdown",
   "metadata": {
    "id": "tvgnzT1CKxrO"
   },
   "source": [
    "## Overview\n",
    "\n",
    "This notebook covers the essentials of prompt engineering, including some best practices.\n",
    "\n",
    "Learn more about prompt design in the [official documentation](https://cloud.google.com/vertex-ai/docs/generative-ai/text/text-overview).\n",
    "\n",
    "In this notebook, you learn best practices around prompt engineering -- how to design prompts to improve the quality of your responses. \n",
    "\n",
    "This notebook covers the following best practices for prompt engineering:\n",
    "\n",
    "- Be concise\n",
    "- Be specific and well-defined\n",
    "- Ask one task at a time\n",
    "- Turn generative tasks into classification tasks\n",
    "- Improve response quality by including examples"
   ]
  },
  {
   "cell_type": "markdown",
   "metadata": {
    "id": "61RBz8LLbxCR"
   },
   "source": [
    "## Getting Started"
   ]
  },
  {
   "cell_type": "markdown",
   "metadata": {
    "id": "No17Cw5hgx12"
   },
   "source": [
    "### Install Vertex AI SDK and other required packages\n"
   ]
  },
  {
   "cell_type": "code",
   "execution_count": 3,
   "metadata": {
    "id": "tFy3H3aPgx12",
    "tags": []
   },
   "outputs": [
    {
     "name": "stdout",
     "output_type": "stream",
     "text": [
      "Note: you may need to restart the kernel to use updated packages.\n"
     ]
    }
   ],
   "source": [
    "%pip install --upgrade --user --quiet google-cloud-aiplatform"
   ]
  },
  {
   "cell_type": "markdown",
   "metadata": {
    "id": "R5Xep4W9lq-Z"
   },
   "source": [
    "### Restart runtime\n",
    "\n",
    "To use the newly installed packages in this Jupyter runtime, you must restart the runtime. You can do this by running the cell below, which will restart the current kernel."
   ]
  },
  {
   "cell_type": "code",
   "execution_count": 4,
   "metadata": {
    "id": "XRvKdaPDTznN",
    "tags": []
   },
   "outputs": [
    {
     "data": {
      "text/plain": [
       "{'status': 'ok', 'restart': True}"
      ]
     },
     "execution_count": 4,
     "metadata": {},
     "output_type": "execute_result"
    }
   ],
   "source": [
    "import IPython\n",
    "\n",
    "app = IPython.Application.instance()\n",
    "app.kernel.do_shutdown(True)"
   ]
  },
  {
   "cell_type": "markdown",
   "metadata": {
    "id": "SbmM4z7FOBpM"
   },
   "source": [
    "<div class=\"alert alert-block alert-warning\">\n",
    "<b>⚠️ The kernel is going to restart. Please wait until it is finished before continuing to the next step. ⚠️</b>\n",
    "</div>\n"
   ]
  },
  {
   "cell_type": "markdown",
   "metadata": {
    "id": "dmWOrTJ3gx13"
   },
   "source": [
    "### Authenticate your notebook environment (Colab only)\n",
    "\n",
    "Authenticate your environment on Google Colab.\n"
   ]
  },
  {
   "cell_type": "code",
   "execution_count": 4,
   "metadata": {
    "id": "NyKGtVQjgx13",
    "tags": []
   },
   "outputs": [],
   "source": [
    "import sys\n",
    "\n",
    "if \"google.colab\" in sys.modules:\n",
    "    from google.colab import auth\n",
    "\n",
    "    auth.authenticate_user()"
   ]
  },
  {
   "cell_type": "markdown",
   "metadata": {
    "id": "DF4l8DTdWgPY"
   },
   "source": [
    "### Set Google Cloud project information and initialize Vertex AI SDK\n",
    "\n",
    "To get started using Vertex AI, you must have an existing Google Cloud project and [enable the Vertex AI API](https://console.cloud.google.com/flows/enableapi?apiid=aiplatform.googleapis.com).\n",
    "\n",
    "Learn more about [setting up a project and a development environment](https://cloud.google.com/vertex-ai/docs/start/cloud-environment)."
   ]
  },
  {
   "cell_type": "code",
   "execution_count": 6,
   "metadata": {
    "id": "Nqwi-5ufWp_B",
    "tags": []
   },
   "outputs": [],
   "source": [
    "PROJECT_ID = \"qwiklabs-gcp-01-fbbf4f99eed0\"  # @param {type:\"string\"}\n",
    "LOCATION = \"us-west1\"  # @param {type:\"string\"}\n",
    "\n",
    "import vertexai\n",
    "\n",
    "vertexai.init(project=PROJECT_ID, location=LOCATION)"
   ]
  },
  {
   "cell_type": "code",
   "execution_count": 7,
   "metadata": {
    "id": "QqRWdPGmW3NJ",
    "tags": []
   },
   "outputs": [],
   "source": [
    "from vertexai.generative_models import GenerationConfig, GenerativeModel\n",
    "import time"
   ]
  },
  {
   "cell_type": "markdown",
   "metadata": {
    "id": "OnFPpCRtXRl4"
   },
   "source": [
    "### Load model"
   ]
  },
  {
   "cell_type": "code",
   "execution_count": 8,
   "metadata": {
    "id": "IQYu_9SvXQah",
    "tags": []
   },
   "outputs": [],
   "source": [
    "model = GenerativeModel(\"gemini-1.5-flash\")"
   ]
  },
  {
   "cell_type": "code",
   "execution_count": 9,
   "metadata": {
    "tags": []
   },
   "outputs": [],
   "source": [
    "import time\n",
    "\n",
    "def call_gemini(prompt, generation_config=GenerationConfig(temperature=1.0)):\n",
    "    wait_time = 1\n",
    "    while True:\n",
    "        try:\n",
    "            response = model.generate_content(prompt, generation_config=generation_config).text\n",
    "            return response\n",
    "            break  # Exit the loop if successful\n",
    "        except Exception as e:  # Replace with the actual exception type\n",
    "            time.sleep(wait_time)\n",
    "            wait_time *= 2  # Double the wait time\n",
    "\n",
    "def send_message_gemini(model, prompt):    \n",
    "    wait_time = 1\n",
    "    while True:\n",
    "        try:\n",
    "            response = model.send_message(prompt).text\n",
    "            return response\n",
    "            break  # Exit the loop if successful\n",
    "        except Exception as e:  # Replace with the actual exception type\n",
    "            time.sleep(wait_time)\n",
    "            wait_time *= 2  # Double the wait time"
   ]
  },
  {
   "cell_type": "markdown",
   "metadata": {
    "id": "cVOtUNJ5X0PY"
   },
   "source": [
    "## Prompt engineering best practices"
   ]
  },
  {
   "cell_type": "markdown",
   "metadata": {
    "id": "uv_e0fEPX60q"
   },
   "source": [
    "Prompt engineering is all about how to design your prompts so that the response is what you were indeed hoping to see.\n",
    "\n",
    "The idea of using \"unfancy\" prompts is to minimize the noise in your prompt to reduce the possibility of the LLM misinterpreting the intent of the prompt. Below are a few guidelines on how to engineer \"unfancy\" prompts.\n",
    "\n",
    "In this section, you'll cover the following best practices when engineering prompts:\n",
    "\n",
    "* Be concise\n",
    "* Be specific, and well-defined\n",
    "* Ask one task at a time\n",
    "* Improve response quality by including examples\n",
    "* Turn generative tasks to classification tasks to improve safety"
   ]
  },
  {
   "cell_type": "markdown",
   "metadata": {
    "id": "0pY4XX0OX9_Y"
   },
   "source": [
    "### Be concise"
   ]
  },
  {
   "cell_type": "markdown",
   "metadata": {
    "id": "xlRpxyxGYA1K"
   },
   "source": [
    "🛑 Not recommended. The prompt below is unnecessarily verbose."
   ]
  },
  {
   "cell_type": "code",
   "execution_count": 10,
   "metadata": {
    "id": "YKV4G-CfXdbi",
    "tags": []
   },
   "outputs": [
    {
     "name": "stdout",
     "output_type": "stream",
     "text": [
      "Here are some names for a flower shop that specializes in dried flowers, playing on various themes:\n",
      "\n",
      "**Evoking Timelessness and Durability:**\n",
      "\n",
      "* Everlasting Blooms\n",
      "* Dried & Delightful\n",
      "* The Timeless Bouquet\n",
      "* The Everlasting Garden\n",
      "* Bloom & Preserve\n",
      "* Dried Flower Haven\n",
      "\n",
      "**Emphasizing Uniqueness & Character:**\n",
      "\n",
      "* The Dried Flower Studio\n",
      "* The Boho Bouquet\n",
      "* The Wildflower Workshop\n",
      "* The Rustic Rose\n",
      "* Bloom & Gather\n",
      "* The Dried Flower Boutique\n",
      "\n",
      "**Focusing on the Process:**\n",
      "\n",
      "* The Pressed Flower Gallery\n",
      "* The Dried Flower Collective\n",
      "* The Flower Preservation Studio\n",
      "* The Dried & Designed\n",
      "* From Fresh to Forever\n",
      "\n",
      "**Playful & Engaging Names:**\n",
      "\n",
      "* The Flower Whisperer\n",
      "* Dried & Daring\n",
      "* The Bloom Room\n",
      "* Flowerful Forever\n",
      "* Petal & Preserve\n",
      "* The Dried Flower Apothecary\n",
      "\n",
      "**For a more modern and minimalist feel:**\n",
      "\n",
      "* Bloom & Co.\n",
      "* The Flower Lab\n",
      "* Petal & Stone\n",
      "* Dried.\n",
      "* The Bouquet Bar\n",
      "\n",
      "**Tips for choosing a name:**\n",
      "\n",
      "* **Consider your target audience.** What kind of name will appeal to them?\n",
      "* **Make sure the name is easy to remember and pronounce.**\n",
      "* **Check if the name is available as a domain name and social media handle.**\n",
      "* **Get feedback from friends and family.** \n",
      "\n",
      "I hope this gives you some inspiration! \n",
      "\n"
     ]
    }
   ],
   "source": [
    "prompt = \"What do you think could be a good name for a flower shop that specializes in selling bouquets of dried flowers more than fresh flowers?\"\n",
    "\n",
    "print(call_gemini(prompt))"
   ]
  },
  {
   "cell_type": "markdown",
   "metadata": {
    "id": "YrJexRHJYnmC"
   },
   "source": [
    "✅ Recommended. The prompt below is to the point and concise."
   ]
  },
  {
   "cell_type": "code",
   "execution_count": 11,
   "metadata": {
    "id": "VHetn9lCYrXB",
    "tags": []
   },
   "outputs": [
    {
     "name": "stdout",
     "output_type": "stream",
     "text": [
      "## Flower Shop Names with a Dried Flower Vibe:\n",
      "\n",
      "**Short & Sweet:**\n",
      "\n",
      "* Bloom & Wither\n",
      "* Dried Blooms\n",
      "* Whispers & Blooms\n",
      "* Petal & Sprig\n",
      "* Everlasting Blooms\n",
      "* The Dried Bouquet\n",
      "* Dusty Rose\n",
      "* Bloom & Co.\n",
      "* Dried & Delicate\n",
      "* Petal Preservation\n",
      "\n",
      "**Descriptive & Evocative:**\n",
      "\n",
      "* The Timeless Bouquet\n",
      "* Forever in Bloom\n",
      "* The Dried Flower Studio\n",
      "* Botanical Whispers\n",
      "* The Dried Bloom Apothecary\n",
      "* The Rustic Bouquet\n",
      "* The Vintage Flower Shop\n",
      "* The Ethereal Bloom\n",
      "* The Dried Flower Garden\n",
      "* The Sun-Kissed Bloom\n",
      "\n",
      "**Playful & Unique:**\n",
      "\n",
      "* The Flower Faders\n",
      "* The Bloom & Bustle\n",
      "* The Dried & Dandy\n",
      "* Whispering Petals\n",
      "* The Dusty Bloom Collective\n",
      "* The Paper Flower Garden\n",
      "* The Petal Preservation Society\n",
      "* The Bloom & Beyond\n",
      "* The Eternal Bloom\n",
      "* The Dried Flower Fairy\n",
      "\n",
      "**Bonus Tip:**\n",
      "\n",
      "* Consider your target audience and the overall style of your shop.\n",
      "* Check for available domain names and social media handles.\n",
      "* Get feedback from friends and family on your favorite choices. \n",
      "\n",
      "Good luck finding the perfect name for your dried flower shop! \n",
      "\n"
     ]
    }
   ],
   "source": [
    "prompt = \"Suggest a name for a flower shop that sells bouquets of dried flowers\"\n",
    "\n",
    "print(call_gemini(prompt))"
   ]
  },
  {
   "cell_type": "markdown",
   "metadata": {
    "id": "eXTAvdOHY0OC"
   },
   "source": [
    "### Be specific, and well-defined"
   ]
  },
  {
   "cell_type": "markdown",
   "metadata": {
    "id": "FTH4GEIgY1dp"
   },
   "source": [
    "Suppose that you want to brainstorm creative ways to describe Earth."
   ]
  },
  {
   "cell_type": "markdown",
   "metadata": {
    "id": "o5BmXBiGY4KC"
   },
   "source": [
    "🛑 The prompt below might be a bit too generic (which is certainly OK if you'd like to ask a generic question!)"
   ]
  },
  {
   "cell_type": "code",
   "execution_count": 12,
   "metadata": {
    "id": "eHBaMvv7Y6mR",
    "tags": []
   },
   "outputs": [
    {
     "name": "stdout",
     "output_type": "stream",
     "text": [
      "## Earth: Our Home Planet\n",
      "\n",
      "Earth is the third planet from the Sun and the only known celestial body to harbor life. It's a dynamic and complex world with a rich history, diverse ecosystems, and fascinating geological features. Let's explore some key facts about our planet:\n",
      "\n",
      "**Physical Characteristics:**\n",
      "\n",
      "* **Diameter:** 12,742 kilometers (7,926 miles)\n",
      "* **Mass:** 5.972 × 10^24 kilograms\n",
      "* **Surface area:** 510.1 million square kilometers (196.9 million square miles)\n",
      "* **Composition:** Primarily iron, nickel, silicon, oxygen, magnesium, sulfur, and aluminum\n",
      "* **Atmosphere:** Composed mainly of nitrogen (78%) and oxygen (21%)\n",
      "\n",
      "**Geological Features:**\n",
      "\n",
      "* **Continents:** Seven major landmasses (Asia, Africa, North America, South America, Antarctica, Europe, Australia)\n",
      "* **Oceans:** Cover about 71% of the Earth's surface, with the Pacific Ocean being the largest.\n",
      "* **Mountains:**  Himalayas, Andes, Rocky Mountains, and many more.\n",
      "* **Volcanoes:** Active and extinct volcanoes, some of which are among the tallest mountains on Earth.\n",
      "* **Canyons:**  Grand Canyon, Mariana Trench, and others.\n",
      "\n",
      "**Climate and Weather:**\n",
      "\n",
      "* **Climate zones:** Varying from tropical to polar, influenced by latitude, altitude, and proximity to oceans.\n",
      "* **Weather patterns:**  Dynamic and constantly changing, driven by solar energy and atmospheric circulation.\n",
      "\n",
      "**Life on Earth:**\n",
      "\n",
      "* **Biodiversity:** Earth boasts an incredible diversity of life forms, from microscopic bacteria to giant blue whales.\n",
      "* **Ecosystems:**  Varied habitats like rainforests, deserts, oceans, and tundra, each with its own unique flora and fauna.\n",
      "* **Evolution:** Life on Earth has evolved over billions of years, adapting to changing environmental conditions.\n",
      "\n",
      "**Human Impact:**\n",
      "\n",
      "* **Population growth:**  Human population has grown exponentially, placing increasing pressure on Earth's resources.\n",
      "* **Climate change:**  Human activities are causing changes in Earth's climate, leading to rising temperatures, extreme weather events, and sea-level rise.\n",
      "* **Pollution:**  Air, water, and soil pollution pose threats to human health and the environment.\n",
      "\n",
      "**Exploration and Research:**\n",
      "\n",
      "* **Space exploration:**  Human and robotic spacecraft have been exploring Earth from orbit, providing invaluable data about our planet.\n",
      "* **Scientific research:**  Scientists continually study Earth's systems to understand its history, present state, and future.\n",
      "\n",
      "**Earth is a unique and precious planet, our home in the vastness of space. It is crucial to understand its complexities, respect its delicate balance, and work towards a sustainable future for all its inhabitants.**\n",
      "\n"
     ]
    }
   ],
   "source": [
    "prompt = \"Tell me about Earth\"\n",
    "\n",
    "print(call_gemini(prompt))"
   ]
  },
  {
   "cell_type": "markdown",
   "metadata": {
    "id": "4iyvEbteZnFL"
   },
   "source": [
    "✅ Recommended. The prompt below is specific and well-defined."
   ]
  },
  {
   "cell_type": "code",
   "execution_count": 13,
   "metadata": {
    "id": "JQ80z8urZnne",
    "tags": []
   },
   "outputs": [
    {
     "name": "stdout",
     "output_type": "stream",
     "text": [
      "## What makes Earth unique compared to other planets:\n",
      "\n",
      "**1. Abundant Liquid Water:**\n",
      "* Earth is the only known planet with vast amounts of liquid water on its surface, essential for life as we know it.\n",
      "* This liquid water exists in oceans, lakes, rivers, and even underground, creating a dynamic hydrological cycle.\n",
      "\n",
      "**2. Plate Tectonics:**\n",
      "* Earth's crust is divided into plates that constantly shift and interact, causing earthquakes, volcanoes, and mountain formation.\n",
      "* This geological activity recycles materials and regulates climate over long periods.\n",
      "\n",
      "**3. Atmospheric Composition:**\n",
      "* Earth's atmosphere is rich in oxygen, a byproduct of life, which is vital for respiration.\n",
      "* The atmosphere also protects us from harmful solar radiation and moderates temperatures.\n",
      "\n",
      "**4. Diverse Life Forms:**\n",
      "* Earth is teeming with an incredible diversity of life, from microscopic bacteria to giant whales.\n",
      "* This biodiversity is a result of billions of years of evolution and adaptation, and its complex web of relationships is crucial for ecosystem stability.\n",
      "\n",
      "**5. Magnetic Field:**\n",
      "* Earth's molten core generates a magnetic field that shields us from solar winds and cosmic radiation.\n",
      "* This magnetic field is responsible for auroras and helps maintain the atmosphere.\n",
      "\n",
      "**6. Stable Orbit:**\n",
      "* Earth orbits the Sun at a distance that allows liquid water to exist on its surface.\n",
      "* This \"Goldilocks Zone\" provides the right amount of solar radiation for life to thrive.\n",
      "\n",
      "**7. Moon's Influence:**\n",
      "* Earth's moon has a significant impact on tides and stabilizing the planet's axis.\n",
      "* This creates a stable environment for life and influences weather patterns.\n",
      "\n",
      "**8. Biosphere:**\n",
      "* Earth's unique combination of factors creates a thriving biosphere, a thin layer where life exists.\n",
      "* This complex system includes all living organisms and their interactions with their environment.\n",
      "\n",
      "**9. Evidence of Past Water:**\n",
      "* While not currently habitable, Mars and other planets show signs of past liquid water, suggesting they might have once supported life.\n",
      "* This indicates that Earth's conditions might not be entirely unique, but the combination of these factors creates an environment unlike any other.\n",
      "\n",
      "**10. Ongoing Evolution:**\n",
      "* Earth is a constantly evolving planet, with changing climates, shifting landmasses, and evolving life forms.\n",
      "* This dynamic nature makes Earth a fascinating and ever-changing world.\n",
      "\n",
      "While other planets may possess some of these features, Earth's unique combination of these factors makes it the only known planet that can support complex life as we know it. \n",
      "\n"
     ]
    }
   ],
   "source": [
    "prompt = \"Generate a list of ways that makes Earth unique compared to other planets\"\n",
    "\n",
    "print(call_gemini(prompt))"
   ]
  },
  {
   "cell_type": "markdown",
   "metadata": {
    "id": "R5kmfZYHZsJ7"
   },
   "source": [
    "### Ask one task at a time"
   ]
  },
  {
   "cell_type": "markdown",
   "metadata": {
    "id": "rsAezxeYZuUN"
   },
   "source": [
    "🛑 Not recommended. The prompt below has two parts to the question that could be asked separately."
   ]
  },
  {
   "cell_type": "code",
   "execution_count": 14,
   "metadata": {
    "id": "ElywPXpuZtWf",
    "tags": []
   },
   "outputs": [
    {
     "name": "stdout",
     "output_type": "stream",
     "text": [
      "Here's a breakdown of the best method for boiling water and the reason behind the sky's blue hue:\n",
      "\n",
      "**Boiling Water**\n",
      "\n",
      "**Best Method:**\n",
      "\n",
      "1. **Use a kettle or pot with a wide base:** This allows for quicker and more even heat distribution.\n",
      "2. **Fill the container with the desired amount of water:**  Don't overfill, leaving room for the water to expand as it boils.\n",
      "3. **Place the container on a high heat source:** This will bring the water to a boil faster.\n",
      "4. **Watch for boiling:** The water will start to bubble vigorously when it reaches boiling point (212°F or 100°C).\n",
      "5. **Turn off the heat source:** Once the water is boiling, remove it from the heat source.\n",
      "\n",
      "**Why this is the best method:**\n",
      "\n",
      "* **Efficiency:**  A wider base and high heat allow for faster heating. \n",
      "* **Safety:**  Leaving room for expansion prevents spills and potential burns.\n",
      "* **Control:**  Turning off the heat once boiling is achieved prevents the water from over-boiling and potentially evaporating completely.\n",
      "\n",
      "**The Blue Sky**\n",
      "\n",
      "**Reason:**\n",
      "\n",
      "The blue color of the sky is a result of a phenomenon called **Rayleigh scattering**. This occurs when sunlight enters the Earth's atmosphere and interacts with the tiny molecules of gases (mostly nitrogen and oxygen).\n",
      "\n",
      "* **Scattering:** As sunlight passes through the atmosphere, it collides with these molecules. The shorter wavelengths of light (blue and violet) are scattered more effectively than longer wavelengths (red and orange).\n",
      "* **Blue Dominance:**  Since blue light is scattered more, we see a blue sky. The scattered blue light reaches our eyes from all directions, making the sky appear uniformly blue.\n",
      "\n",
      "**Other factors:**\n",
      "\n",
      "* **Time of day:** The sky appears bluer during midday when the sun is high in the sky.  As the sun sets, the light travels through more atmosphere, scattering more red light, giving the sky a reddish hue.\n",
      "* **Clouds:** Clouds can appear white because they reflect all wavelengths of light equally.\n",
      "\n",
      "Let me know if you'd like more details on either boiling water or the science behind the blue sky! \n",
      "\n"
     ]
    }
   ],
   "source": [
    "prompt = \"What's the best method of boiling water and why is the sky blue?\"\n",
    "\n",
    "print(call_gemini(prompt))"
   ]
  },
  {
   "cell_type": "markdown",
   "metadata": {
    "id": "ejzahazBZ8vk"
   },
   "source": [
    "✅ Recommended. The prompts below asks one task a time."
   ]
  },
  {
   "cell_type": "code",
   "execution_count": 15,
   "metadata": {
    "id": "C5ckp2F0Z_Ba",
    "tags": []
   },
   "outputs": [
    {
     "name": "stdout",
     "output_type": "stream",
     "text": [
      "There isn't one single \"best\" method for boiling water, as the best method depends on your needs and situation. Here's a breakdown of common methods and when they might be best:\n",
      "\n",
      "**Methods:**\n",
      "\n",
      "* **Stovetop:**\n",
      "    * **Pros:**  Versatile, can boil large quantities, readily available.\n",
      "    * **Cons:** Can take longer than other methods, requires close supervision.\n",
      "    * **Best for:**  Boiling large quantities of water, using a pot with a specific size or shape.\n",
      "\n",
      "* **Electric Kettle:**\n",
      "    * **Pros:**  Fast, convenient, automatic shut-off for safety, energy-efficient.\n",
      "    * **Cons:**  Limited capacity, can be noisy, may not be suitable for all types of water.\n",
      "    * **Best for:**  Quick boiling of small amounts of water (for tea, instant coffee, etc.), energy-conscious users.\n",
      "\n",
      "* **Microwave:**\n",
      "    * **Pros:**  Extremely fast, convenient, uses less energy than stovetop.\n",
      "    * **Cons:**  Limited capacity, can create uneven heating, not suitable for all types of containers.\n",
      "    * **Best for:**  Small amounts of water for quick tasks, when time is limited.\n",
      "\n",
      "* **Camping Stove:**\n",
      "    * **Pros:**  Portable, works in remote locations.\n",
      "    * **Cons:**  Requires fuel, slower than other methods, may not be as convenient as other options.\n",
      "    * **Best for:**  Outdoor activities, camping, hiking.\n",
      "\n",
      "**Tips for boiling water efficiently:**\n",
      "\n",
      "* **Use a pot with a tight-fitting lid:** This helps trap heat and speed up the boiling process.\n",
      "* **Start with cold water:**  It takes longer to heat water from room temperature to boiling than from cold.\n",
      "* **Don't overcrowd the pot:**  Allow space for the water to circulate freely.\n",
      "* **Don't overfill the pot:**  Leave room for the water to expand as it boils.\n",
      "* **Use a thermometer:**  Make sure the water reaches a true boil (212 degrees Fahrenheit or 100 degrees Celsius).\n",
      "\n",
      "Ultimately, the best method for you will depend on your individual needs and preferences. Consider the factors discussed above to make the best choice for your situation. \n",
      "\n"
     ]
    }
   ],
   "source": [
    "prompt = \"What's the best method of boiling water?\"\n",
    "\n",
    "print(call_gemini(prompt))"
   ]
  },
  {
   "cell_type": "code",
   "execution_count": 16,
   "metadata": {
    "id": "KwUzhud4aA89",
    "tags": []
   },
   "outputs": [
    {
     "name": "stdout",
     "output_type": "stream",
     "text": [
      "The sky appears blue due to a phenomenon called **Rayleigh scattering**. Here's how it works:\n",
      "\n",
      "* **Sunlight is a mixture of all colors:**  The sun emits light that contains all the colors of the rainbow.\n",
      "* **Air molecules scatter light:** When sunlight enters the Earth's atmosphere, it encounters tiny particles like nitrogen and oxygen molecules. These molecules are much smaller than the wavelengths of visible light.\n",
      "* **Shorter wavelengths scatter more:**  Blue light has a shorter wavelength than other colors in the visible spectrum.  When sunlight hits these tiny air molecules, the shorter wavelengths (blue and violet) are scattered more strongly than longer wavelengths (red and orange).\n",
      "* **We see scattered blue light:** This scattered blue light is what we see as the blue sky.\n",
      "\n",
      "**Why is the sky not violet?**\n",
      "\n",
      "While violet light is scattered even more than blue, our eyes are more sensitive to blue light. So, we perceive the sky as blue, even though violet light is scattered more strongly.\n",
      "\n",
      "**Other factors that affect sky color:**\n",
      "\n",
      "* **Time of day:**  The sky appears reddish at sunrise and sunset because the sunlight has to travel through more of the atmosphere to reach our eyes, scattering away the blue light and leaving the longer wavelengths (red and orange).\n",
      "* **Clouds:** Clouds are made of larger water droplets or ice crystals, which scatter all wavelengths of light equally. This is why clouds appear white.\n",
      "* **Pollution:**  Pollution can also affect the color of the sky, making it appear hazy or even reddish.\n",
      "\n",
      "Let me know if you have any more questions! \n",
      "\n"
     ]
    }
   ],
   "source": [
    "prompt = \"Why is the sky blue?\"\n",
    "\n",
    "print(call_gemini(prompt))"
   ]
  },
  {
   "cell_type": "markdown",
   "metadata": {
    "id": "PJIL2RTQaGcT"
   },
   "source": [
    "### Watch out for hallucinations"
   ]
  },
  {
   "cell_type": "markdown",
   "metadata": {
    "id": "8Y8kYxrSaHE9"
   },
   "source": [
    "Although LLMs have been trained on a large amount of data, they can generate text containing statements not grounded in truth or reality; these responses from the LLM are often referred to as \"hallucinations\" due to their limited memorization capabilities. Note that simply prompting the LLM to provide a citation isn't a fix to this problem, as there are instances of LLMs providing false or inaccurate citations. Dealing with hallucinations is a fundamental challenge of LLMs and an ongoing research area, so it is important to be cognizant that LLMs may seem to give you confident, correct-sounding statements that are in fact incorrect.\n",
    "\n",
    "Note that if you intend to use LLMs for the creative use cases, hallucinating could actually be quite useful."
   ]
  },
  {
   "cell_type": "markdown",
   "metadata": {
    "id": "8NY5nAGeaJYS"
   },
   "source": [
    "Try the prompt like the one below repeatedly. We set the temperature to 1.0 so that it takes more risks in its choices. It's possible that it may provide an inaccurate, but confident answer."
   ]
  },
  {
   "cell_type": "code",
   "execution_count": 17,
   "metadata": {
    "id": "QALPjEILaM62",
    "tags": []
   },
   "outputs": [
    {
     "name": "stdout",
     "output_type": "stream",
     "text": [
      "I do not have access to real-time information, including the current date. To find out what day it is today, I recommend checking a calendar or your device's clock. \n",
      "\n"
     ]
    }
   ],
   "source": [
    "generation_config = GenerationConfig(temperature=1.0)\n",
    "\n",
    "prompt = \"What day is it today?\"\n",
    "\n",
    "print(call_gemini(prompt, generation_config))"
   ]
  },
  {
   "cell_type": "markdown",
   "metadata": {
    "id": "BRkwzbgRbhKt"
   },
   "source": [
    "Since LLMs do not have access to real-time information without further integrations, you may have noticed it hallucinates what day it is today in some of the outputs."
   ]
  },
  {
   "cell_type": "markdown",
   "metadata": {
    "id": "3c811e310d02"
   },
   "source": [
    "### Using system instructions to guardrail the model from irrelevant responses\n",
    "\n",
    "How can we attempt to reduce the chances of irrelevant responses and hallucinations?\n",
    "\n",
    "One way is to provide the LLM with [system instructions](https://cloud.google.com/vertex-ai/generative-ai/docs/multimodal/send-chat-prompts-gemini#system-instructions).\n",
    "\n",
    "Let's see how system instructions works and how you can use them to reduce hallucinations or irrelevant questions for a travel chatbot.\n",
    "\n",
    "Suppose we ask a simple question about one of Italy's most famous tourist spots."
   ]
  },
  {
   "cell_type": "code",
   "execution_count": 18,
   "metadata": {
    "id": "rB6zJU76biFK",
    "tags": []
   },
   "outputs": [
    {
     "name": "stdout",
     "output_type": "stream",
     "text": [
      "Milan offers a wealth of sightseeing options! To give you the best recommendation, I need a little more information. What kind of sights are you interested in? \n",
      "\n",
      "For example, are you looking for:\n",
      "\n",
      "* **Iconic landmarks:** Like the Duomo, Galleria Vittorio Emanuele II, or Castello Sforzesco?\n",
      "* **Art and culture:** Perhaps you'd like to visit the Pinacoteca di Brera, the Museo del Novecento, or the Teatro alla Scala?\n",
      "* **Fashion and design:** Maybe you're interested in the Quadrilatero della Moda, the Museo del Design, or the Triennale di Milano?\n",
      "\n",
      "Tell me what you're most interested in seeing, and I can point you to the best places! \n",
      "\n"
     ]
    }
   ],
   "source": [
    "model_travel = GenerativeModel(\n",
    "    model_name=\"gemini-1.5-flash\",\n",
    "    system_instruction=[\n",
    "        \"Hello! You are an AI chatbot for a travel web site.\",\n",
    "        \"Your mission is to provide helpful queries for travelers.\",\n",
    "        \"Remember that before you answer a question, you must check to see if it complies with your mission.\",\n",
    "        \"If not, you can say, Sorry I can't answer that question.\",\n",
    "    ],\n",
    ")\n",
    "\n",
    "chat = model_travel.start_chat()\n",
    "\n",
    "prompt = \"What is the best place for sightseeing in Milan, Italy?\"\n",
    "\n",
    "print(send_message_gemini(chat, prompt))"
   ]
  },
  {
   "cell_type": "markdown",
   "metadata": {
    "id": "WZa-Qcf9cF4A"
   },
   "source": [
    "Now let us pretend to be a user asks the chatbot a question that is unrelated to travel."
   ]
  },
  {
   "cell_type": "code",
   "execution_count": 19,
   "metadata": {
    "id": "AZKBIDr2cGnu",
    "tags": []
   },
   "outputs": [
    {
     "name": "stdout",
     "output_type": "stream",
     "text": [
      "Sorry, I can't answer that question. I'm designed to help travelers plan their trips, and I don't have access to real-time information like restaurant menus. \n",
      "\n",
      "However, I can help you find great places to eat in Milan! What kind of cuisine are you interested in?  Tell me your preferences and I can suggest some delicious restaurants. \n",
      "\n"
     ]
    }
   ],
   "source": [
    "prompt = \"What's for dinner?\"\n",
    "\n",
    "print(send_message_gemini(chat, prompt))"
   ]
  },
  {
   "cell_type": "markdown",
   "metadata": {
    "id": "JiUYIhwpctCy"
   },
   "source": [
    "You can see that this way, a guardrail in the prompt prevented the chatbot from veering off course."
   ]
  },
  {
   "cell_type": "markdown",
   "metadata": {
    "id": "ZuuDhA37cvmP"
   },
   "source": [
    "### Turn generative tasks into classification tasks to reduce output variability"
   ]
  },
  {
   "cell_type": "markdown",
   "metadata": {
    "id": "kUCUrsUzczmb"
   },
   "source": [
    "#### Generative tasks lead to higher output variability"
   ]
  },
  {
   "cell_type": "markdown",
   "metadata": {
    "id": "a1xASHAkc46n"
   },
   "source": [
    "The prompt below results in an open-ended response, useful for brainstorming, but response is highly variable."
   ]
  },
  {
   "cell_type": "code",
   "execution_count": 20,
   "metadata": {
    "id": "nPfXQWIacwRf",
    "tags": []
   },
   "outputs": [
    {
     "name": "stdout",
     "output_type": "stream",
     "text": [
      "## Programming Activities for High School Students:\n",
      "\n",
      "Here are some programming activities tailored to high school students, aiming to improve your skills in a fun and engaging way:\n",
      "\n",
      "**Beginner Level:**\n",
      "\n",
      "* **Build a simple calculator:**  This project teaches basic input/output, arithmetic operations, and conditional statements.\n",
      "* **Create a text-based adventure game:**  This involves using loops, conditions, and basic game logic to create a simple story-driven game.\n",
      "* **Develop a guessing game:**  This project focuses on user input, random number generation, and comparison operators.\n",
      "* **Design a website with HTML, CSS, and JavaScript:**  Learn basic web development and create your own website with simple features.\n",
      "* **Try Codecademy or Khan Academy courses:**  These online platforms offer interactive lessons and tutorials for beginners in various programming languages.\n",
      "\n",
      "**Intermediate Level:**\n",
      "\n",
      "* **Create a to-do list application:**  This project requires using data structures (lists or arrays) and possibly local storage.\n",
      "* **Build a simple chat application:**  This project introduces network communication and basic data transmission.\n",
      "* **Develop a basic game with a graphical interface:**  Explore libraries like Pygame (Python) or Processing (Java) to learn game development principles.\n",
      "* **Contribute to open-source projects:**  Find projects on GitHub related to your interests and contribute by fixing bugs or adding features.\n",
      "* **Participate in coding competitions:**  Challenge yourself and test your skills in coding competitions like Codewars or HackerRank.\n",
      "\n",
      "**Advanced Level:**\n",
      "\n",
      "* **Develop a mobile application using a framework like Flutter or React Native:**  Learn cross-platform development and explore the capabilities of mobile devices.\n",
      "* **Work on a personal project that interests you:**  Choose something you're passionate about and build a program that solves a real-world problem or implements a creative idea.\n",
      "* **Learn a new programming language or framework:**  Expand your skillset by learning a language like C++, Go, or Rust, or a framework like Django (Python) or Spring (Java).\n",
      "* **Start a blog or contribute to online forums:**  Share your knowledge, learn from others, and connect with the programming community.\n",
      "\n",
      "**Tips for choosing a project:**\n",
      "\n",
      "* **Choose something you find interesting:**  This will keep you motivated and engaged.\n",
      "* **Start with a simple project and gradually increase complexity:**  Don't get overwhelmed with too much at once.\n",
      "* **Don't be afraid to ask for help:**  There are many resources available online and in your community.\n",
      "* **Have fun and enjoy the learning process!**\n",
      "\n",
      "Remember, learning to program is a journey, and it's important to be patient with yourself. Start with simple projects and gradually build up your skills and confidence. \n",
      "\n"
     ]
    }
   ],
   "source": [
    "prompt = \"I'm a high school student. Recommend me a programming activity to improve my skills.\"\n",
    "\n",
    "print(call_gemini(prompt))"
   ]
  },
  {
   "cell_type": "markdown",
   "metadata": {
    "id": "iAmm9wPYc_1o"
   },
   "source": [
    "#### Classification tasks reduces output variability"
   ]
  },
  {
   "cell_type": "markdown",
   "metadata": {
    "id": "VvRpK_0GdCpf"
   },
   "source": [
    "The prompt below results in a choice and may be useful if you want the output to be easier to control."
   ]
  },
  {
   "cell_type": "code",
   "execution_count": 21,
   "metadata": {
    "id": "kYDKh0r2dAqo",
    "tags": []
   },
   "outputs": [
    {
     "name": "stdout",
     "output_type": "stream",
     "text": [
      "That's a great question! All three programming languages are valuable, but the best one for you depends on what you're interested in and what you want to achieve. Here's a breakdown to help you decide:\n",
      "\n",
      "**a) Learn Python:**\n",
      "\n",
      "* **Pros:** \n",
      "    * **Easy to learn:** Python is known for its beginner-friendly syntax, making it a great starting point for anyone new to programming. \n",
      "    * **Versatile:** Python is used in a wide range of fields, including web development, data science, machine learning, and scientific computing.\n",
      "    * **Large and active community:** There's a huge community of Python developers, meaning you'll find plenty of resources, support, and libraries to help you along the way.\n",
      "* **Cons:**\n",
      "    * **Not as fast as some other languages:** Python is interpreted, which means it's slightly slower than compiled languages like C++ or Fortran.\n",
      "    * **Not the best for performance-critical applications:**  While Python is used in some high-performance areas, other languages might be more suitable for tasks requiring extreme speed.\n",
      "\n",
      "**b) Learn JavaScript:**\n",
      "\n",
      "* **Pros:**\n",
      "    * **The language of the web:** JavaScript is the cornerstone of interactive web development. If you want to create dynamic websites, web applications, or games, JavaScript is essential.\n",
      "    * **Widely used:**  JavaScript is used by almost every website, making it a highly sought-after skill for web developers.\n",
      "    * **Good for mobile development:**  JavaScript can be used to build cross-platform mobile apps using frameworks like React Native.\n",
      "* **Cons:**\n",
      "    * **Can be more complex than Python:**  JavaScript can be a bit more challenging for beginners to grasp initially.\n",
      "    * **Not as versatile as Python:** JavaScript is primarily used for web development, though it's gaining traction in other areas.\n",
      "\n",
      "**c) Learn Fortran:**\n",
      "\n",
      "* **Pros:** \n",
      "    * **Powerful for scientific computing:**  Fortran is still widely used in scientific computing, engineering, and data analysis due to its efficiency and performance.\n",
      "    * **Legacy code:** If you plan to work with existing Fortran code, understanding it will be valuable.\n",
      "    * **Strong numerical capabilities:**  Fortran excels in handling complex mathematical calculations.\n",
      "* **Cons:**\n",
      "    * **Not as popular as Python or JavaScript:**  Fortran has been overtaken by newer languages in many areas.\n",
      "    * **Steeper learning curve:**  Fortran's syntax can be less intuitive for beginners compared to modern languages.\n",
      "    * **Limited web and mobile applications:** Fortran is primarily focused on scientific and engineering applications.\n",
      "\n",
      "**Recommendation:**\n",
      "\n",
      "* **If you're new to programming:**  Python is the best choice. It's beginner-friendly, versatile, and has a large support community. \n",
      "* **If you're interested in web development:**  JavaScript is essential. \n",
      "* **If you're interested in scientific computing, data analysis, or working with legacy code:**  Fortran might be a good option, but Python is becoming increasingly popular in these fields.\n",
      "\n",
      "**Ultimately, the best language for you depends on your interests and goals. Consider what you want to achieve and choose the language that aligns with your aspirations.**\n",
      "\n",
      "**Pro tip:**  You can always learn multiple languages later! Starting with Python is a great foundation, and you can explore other languages as your interests develop. \n",
      "\n"
     ]
    }
   ],
   "source": [
    "prompt = \"\"\"I'm a high school student. Which of these activities do you suggest and why:\n",
    "a) learn Python\n",
    "b) learn JavaScript\n",
    "c) learn Fortran\n",
    "\"\"\"\n",
    "\n",
    "print(call_gemini(prompt))"
   ]
  },
  {
   "cell_type": "markdown",
   "metadata": {
    "id": "iTd60b1GdIsx"
   },
   "source": [
    "### Improve response quality by including examples"
   ]
  },
  {
   "cell_type": "markdown",
   "metadata": {
    "id": "yJi44NejdJYE"
   },
   "source": [
    "Another way to improve response quality is to add examples in your prompt. The LLM learns in-context from the examples on how to respond. Typically, one to five examples (shots) are enough to improve the quality of responses. Including too many examples can cause the model to over-fit the data and reduce the quality of responses.\n",
    "\n",
    "Similar to classical model training, the quality and distribution of the examples is very important. Pick examples that are representative of the scenarios that you need the model to learn, and keep the distribution of the examples (e.g. number of examples per class in the case of classification) aligned with your actual distribution."
   ]
  },
  {
   "cell_type": "markdown",
   "metadata": {
    "id": "sMbLginWdOKs"
   },
   "source": [
    "#### Zero-shot prompt"
   ]
  },
  {
   "cell_type": "markdown",
   "metadata": {
    "id": "Crh2Loi2dQ0v"
   },
   "source": [
    "Below is an example of zero-shot prompting, where you don't provide any examples to the LLM within the prompt itself."
   ]
  },
  {
   "cell_type": "code",
   "execution_count": 22,
   "metadata": {
    "id": "-7myRc-SdTQ4",
    "tags": []
   },
   "outputs": [
    {
     "name": "stdout",
     "output_type": "stream",
     "text": [
      "Sentiment: **Positive** \n",
      "\n"
     ]
    }
   ],
   "source": [
    "prompt = \"\"\"Decide whether a Tweet's sentiment is positive, neutral, or negative.\n",
    "\n",
    "Tweet: I loved the new YouTube video you made!\n",
    "Sentiment:\n",
    "\"\"\"\n",
    "\n",
    "print(call_gemini(prompt))"
   ]
  },
  {
   "cell_type": "markdown",
   "metadata": {
    "id": "ucRtPn9SdL64"
   },
   "source": [
    "#### One-shot prompt"
   ]
  },
  {
   "cell_type": "markdown",
   "metadata": {
    "id": "rs0gQH2vdYBi"
   },
   "source": [
    "Below is an example of one-shot prompting, where you provide one example to the LLM within the prompt to give some guidance on what type of response you want."
   ]
  },
  {
   "cell_type": "code",
   "execution_count": 23,
   "metadata": {
    "id": "iEq-KxGYdaT5",
    "tags": []
   },
   "outputs": [
    {
     "name": "stdout",
     "output_type": "stream",
     "text": [
      "Sentiment: **negative** \n",
      "\n"
     ]
    }
   ],
   "source": [
    "prompt = \"\"\"Decide whether a Tweet's sentiment is positive, neutral, or negative.\n",
    "\n",
    "Tweet: I loved the new YouTube video you made!\n",
    "Sentiment: positive\n",
    "\n",
    "Tweet: That was awful. Super boring 😠\n",
    "Sentiment:\n",
    "\"\"\"\n",
    "\n",
    "print(call_gemini(prompt))"
   ]
  },
  {
   "cell_type": "markdown",
   "metadata": {
    "id": "JnKLjJzmdfL_"
   },
   "source": [
    "#### Few-shot prompt"
   ]
  },
  {
   "cell_type": "markdown",
   "metadata": {
    "id": "6Zv-9F5OdgI_"
   },
   "source": [
    "Below is an example of few-shot prompting, where you provide a few examples to the LLM within the prompt to give some guidance on what type of response you want."
   ]
  },
  {
   "cell_type": "code",
   "execution_count": 24,
   "metadata": {
    "id": "u37P9tG4dk9S",
    "tags": []
   },
   "outputs": [
    {
     "name": "stdout",
     "output_type": "stream",
     "text": [
      "Sentiment: **positive** \n",
      "\n",
      "Here's why:\n",
      "\n",
      "* **\"Surprised me about this video - it was actually original\"**: This implies the speaker was pleasantly surprised, suggesting a positive experience.\n",
      "* **\"Not the same old recycled stuff\"**:  This indicates the speaker finds the video refreshing and different, a positive attribute.\n",
      "* **\"Watch it - you will not regret it\"**: This is a strong recommendation, further reinforcing the positive sentiment. \n",
      "\n"
     ]
    }
   ],
   "source": [
    "prompt = \"\"\"Decide whether a Tweet's sentiment is positive, neutral, or negative.\n",
    "\n",
    "Tweet: I loved the new YouTube video you made!\n",
    "Sentiment: positive\n",
    "\n",
    "Tweet: That was awful. Super boring 😠\n",
    "Sentiment: negative\n",
    "\n",
    "Tweet: Something surprised me about this video - it was actually original. It was not the same old recycled stuff that I always see. Watch it - you will not regret it.\n",
    "Sentiment:\n",
    "\"\"\"\n",
    "\n",
    "print(call_gemini(prompt))"
   ]
  },
  {
   "cell_type": "markdown",
   "metadata": {
    "id": "wDMD3xb2dvX6"
   },
   "source": [
    "#### Choosing between zero-shot, one-shot, few-shot prompting methods"
   ]
  },
  {
   "cell_type": "markdown",
   "metadata": {
    "id": "s92W0YpNdxJp"
   },
   "source": [
    "Which prompt technique to use will solely depends on your goal. The zero-shot prompts are more open-ended and can give you creative answers, while one-shot and few-shot prompts teach the model how to behave so you can get more predictable answers that are consistent with the examples provided."
   ]
  },
  {
   "cell_type": "code",
   "execution_count": null,
   "metadata": {},
   "outputs": [],
   "source": []
  },
  {
   "cell_type": "code",
   "execution_count": null,
   "metadata": {},
   "outputs": [],
   "source": []
  }
 ],
 "metadata": {
  "colab": {
   "name": "intro_prompt_design.ipynb",
   "toc_visible": true
  },
  "environment": {
   "kernel": "conda-base-py",
   "name": "workbench-notebooks.m127",
   "type": "gcloud",
   "uri": "us-docker.pkg.dev/deeplearning-platform-release/gcr.io/workbench-notebooks:m127"
  },
  "kernelspec": {
   "display_name": "Python 3 (ipykernel) (Local)",
   "language": "python",
   "name": "conda-base-py"
  },
  "language_info": {
   "codemirror_mode": {
    "name": "ipython",
    "version": 3
   },
   "file_extension": ".py",
   "mimetype": "text/x-python",
   "name": "python",
   "nbconvert_exporter": "python",
   "pygments_lexer": "ipython3",
   "version": "3.10.16"
  }
 },
 "nbformat": 4,
 "nbformat_minor": 4
}
